{
 "cells": [
  {
   "cell_type": "markdown",
   "id": "1fae7bb1",
   "metadata": {
    "tags": []
   },
   "source": [
    "# NN&GA HW2: Graduate Admission Prediction\n",
    "> *author:* Ala Eddine Battikh\n",
    "---\n",
    "## Introduction\n",
    "The dataset used is created for prediction of Graduate Admissions from an Indian perspective.\\\n",
    "Dataset link: [Admission_Predict_Ver1.1.csv](https://www.kaggle.com/datasets/mohansacharya/graduate-admissions?select=Admission_Predict_Ver1.1.csv)\n",
    "> **NOTE**: The updated version was used in this homework, I included it in the repository \n",
    "\n",
    "## Assignment\n",
    "Apply *a machine learning algorithm*, *a deep learning algorithm*, and compare their accuracy.\n",
    "\n",
    "### Parameters\n",
    "- The dataset contains several parameters which are considered important during the application for Masters Programs.\n",
    "\n",
    "| **Parameter** | **Scale** |\n",
    "|---|---|\n",
    "| GRE Scores | out of 340 |\n",
    "| TOEFL Scores | out of 120 |\n",
    "| University Rating | out of 5 |\n",
    "| Statement of Purpose and Letter of Recommendation Strength | out of 5 |\n",
    "| Undergraduate GPA | out of 10 |\n",
    "| Research Experience | either 0 or 1 |\n",
    "| Chance of Admit | ranging from 0 to 1 |\n",
    "\n",
    "### Working Steps\n",
    "1. Reading and Understanding the Data\n",
    "2. Data Cleaning and Preparation\n",
    "3. Visualizing some data\n",
    "4. Train-Test Split\n",
    "5. Model Building using Linear Regression\n",
    "6. Model Building using NN Algorithm (Multi-layer Perceptron Regressor)\n",
    "7. Comparing Results"
   ]
  },
  {
   "cell_type": "markdown",
   "id": "b0790e3c-fd9d-4997-9492-32fb1b2a7ee0",
   "metadata": {},
   "source": [
    "## 1. Reading and Understanding the Data"
   ]
  },
  {
   "cell_type": "markdown",
   "id": "f404f040-de29-4fbc-b03d-79d688edb4b9",
   "metadata": {},
   "source": [
    "### Importing the libraries"
   ]
  },
  {
   "cell_type": "code",
   "execution_count": 1,
   "id": "7019fc96",
   "metadata": {},
   "outputs": [],
   "source": [
    "import pandas as pd\n",
    "import matplotlib.pyplot as plt\n",
    "import seaborn as sns"
   ]
  },
  {
   "cell_type": "markdown",
   "id": "f85020e9-a659-46fd-9d45-72ab76d9615b",
   "metadata": {},
   "source": [
    "### Importing the Dataset"
   ]
  },
  {
   "cell_type": "code",
   "execution_count": 2,
   "id": "59cc9036-f5a9-4079-ac7f-372a20910d0f",
   "metadata": {},
   "outputs": [],
   "source": [
    "# Using Panda\n",
    "candidates = pd.read_csv('Admission_Predict_Ver1.1.csv')"
   ]
  },
  {
   "cell_type": "markdown",
   "id": "fdd4dad4-a2f4-4f78-8266-57ecaae9ff68",
   "metadata": {},
   "source": [
    "### Understanding the Data"
   ]
  },
  {
   "cell_type": "code",
   "execution_count": 3,
   "id": "2490fd1a",
   "metadata": {},
   "outputs": [
    {
     "name": "stdout",
     "output_type": "stream",
     "text": [
      "   Serial No.  GRE Score  TOEFL Score  University Rating  SOP  LOR   CGPA  \\\n",
      "0           1        337          118                  4  4.5   4.5  9.65   \n",
      "1           2        324          107                  4  4.0   4.5  8.87   \n",
      "2           3        316          104                  3  3.0   3.5  8.00   \n",
      "3           4        322          110                  3  3.5   2.5  8.67   \n",
      "4           5        314          103                  2  2.0   3.0  8.21   \n",
      "\n",
      "   Research  Chance of Admit   \n",
      "0         1              0.92  \n",
      "1         1              0.76  \n",
      "2         1              0.72  \n",
      "3         1              0.80  \n",
      "4         0              0.65  \n"
     ]
    }
   ],
   "source": [
    "print(candidates.head())"
   ]
  },
  {
   "cell_type": "code",
   "execution_count": 4,
   "id": "42a0856a",
   "metadata": {},
   "outputs": [
    {
     "name": "stdout",
     "output_type": "stream",
     "text": [
      "(500, 9)\n"
     ]
    }
   ],
   "source": [
    "print(candidates.shape)"
   ]
  },
  {
   "cell_type": "code",
   "execution_count": 5,
   "id": "3b45c862",
   "metadata": {},
   "outputs": [
    {
     "name": "stdout",
     "output_type": "stream",
     "text": [
      "       Serial No.   GRE Score  TOEFL Score  University Rating         SOP  \\\n",
      "count  500.000000  500.000000   500.000000         500.000000  500.000000   \n",
      "mean   250.500000  316.472000   107.192000           3.114000    3.374000   \n",
      "std    144.481833   11.295148     6.081868           1.143512    0.991004   \n",
      "min      1.000000  290.000000    92.000000           1.000000    1.000000   \n",
      "25%    125.750000  308.000000   103.000000           2.000000    2.500000   \n",
      "50%    250.500000  317.000000   107.000000           3.000000    3.500000   \n",
      "75%    375.250000  325.000000   112.000000           4.000000    4.000000   \n",
      "max    500.000000  340.000000   120.000000           5.000000    5.000000   \n",
      "\n",
      "            LOR         CGPA    Research  Chance of Admit   \n",
      "count  500.00000  500.000000  500.000000         500.00000  \n",
      "mean     3.48400    8.576440    0.560000           0.72174  \n",
      "std      0.92545    0.604813    0.496884           0.14114  \n",
      "min      1.00000    6.800000    0.000000           0.34000  \n",
      "25%      3.00000    8.127500    0.000000           0.63000  \n",
      "50%      3.50000    8.560000    1.000000           0.72000  \n",
      "75%      4.00000    9.040000    1.000000           0.82000  \n",
      "max      5.00000    9.920000    1.000000           0.97000  \n"
     ]
    }
   ],
   "source": [
    "print(candidates.describe())"
   ]
  },
  {
   "cell_type": "code",
   "execution_count": 6,
   "id": "4e4d0869",
   "metadata": {},
   "outputs": [
    {
     "name": "stdout",
     "output_type": "stream",
     "text": [
      "<class 'pandas.core.frame.DataFrame'>\n",
      "RangeIndex: 500 entries, 0 to 499\n",
      "Data columns (total 9 columns):\n",
      " #   Column             Non-Null Count  Dtype  \n",
      "---  ------             --------------  -----  \n",
      " 0   Serial No.         500 non-null    int64  \n",
      " 1   GRE Score          500 non-null    int64  \n",
      " 2   TOEFL Score        500 non-null    int64  \n",
      " 3   University Rating  500 non-null    int64  \n",
      " 4   SOP                500 non-null    float64\n",
      " 5   LOR                500 non-null    float64\n",
      " 6   CGPA               500 non-null    float64\n",
      " 7   Research           500 non-null    int64  \n",
      " 8   Chance of Admit    500 non-null    float64\n",
      "dtypes: float64(4), int64(5)\n",
      "memory usage: 35.3 KB\n",
      "None\n"
     ]
    }
   ],
   "source": [
    "print(candidates.info())"
   ]
  },
  {
   "cell_type": "markdown",
   "id": "04374a99-810a-4bf1-9a59-1d3bdaedffe5",
   "metadata": {},
   "source": [
    "## 2. Data Cleaning and Preparation"
   ]
  },
  {
   "cell_type": "code",
   "execution_count": 7,
   "id": "63925cfa",
   "metadata": {},
   "outputs": [
    {
     "name": "stdout",
     "output_type": "stream",
     "text": [
      "   GRE Score  TOEFL Score  University Rating  SOP  LOR   CGPA  Research  \\\n",
      "0        337          118                  4  4.5   4.5  9.65         1   \n",
      "1        324          107                  4  4.0   4.5  8.87         1   \n",
      "2        316          104                  3  3.0   3.5  8.00         1   \n",
      "3        322          110                  3  3.5   2.5  8.67         1   \n",
      "4        314          103                  2  2.0   3.0  8.21         0   \n",
      "\n",
      "   Chance of Admit   \n",
      "0              0.92  \n",
      "1              0.76  \n",
      "2              0.72  \n",
      "3              0.80  \n",
      "4              0.65  \n"
     ]
    }
   ],
   "source": [
    "# Dropping Serial No.\n",
    "candidates = candidates.drop(['Serial No.'], axis=1)\n",
    "\n",
    "# Observing the updated Dataset\n",
    "print(candidates.head())"
   ]
  },
  {
   "cell_type": "markdown",
   "id": "e13a84b9-da2d-4cf9-95e6-3463b2167aad",
   "metadata": {},
   "source": [
    "## 3. Visualizing the data"
   ]
  },
  {
   "cell_type": "code",
   "execution_count": 8,
   "id": "93e70f9a-fb3c-4c29-a8dc-e29b808379a2",
   "metadata": {},
   "outputs": [
    {
     "data": {
      "text/plain": [
       "(5.0, 10.0)"
      ]
     },
     "execution_count": 8,
     "metadata": {},
     "output_type": "execute_result"
    },
    {
     "data": {
      "image/png": "[encoded data removed]",
      "text/plain": [
       "<Figure size 360x360 with 1 Axes>"
      ]
     },
     "metadata": {
      "needs_background": "light"
     },
     "output_type": "display_data"
    }
   ],
   "source": [
    "# Distribution Plotting\n",
    "sns.displot(data=candidates.CGPA, kde=True)\n",
    "plt.title(\"Uncergraduate GPA (CGPA) Distribution Plot\")\n",
    "plt.xlim(5.0, 10.0)"
   ]
  },
  {
   "cell_type": "markdown",
   "id": "ece607c5-946f-40c3-9cf8-eb6909502983",
   "metadata": {
    "tags": []
   },
   "source": [
    "### Interference\n",
    "- The plot seemed to be left-skewed, meaning that the most GPAs in the dataset are higher than 7.\n",
    "- The majority of candidates have GPA between 8.0 and 9.0"
   ]
  },
  {
   "cell_type": "markdown",
   "id": "4a83783b-dac4-4784-a58d-2219708f7567",
   "metadata": {},
   "source": [
    "## 4. Train-Test Split"
   ]
  },
  {
   "cell_type": "code",
   "execution_count": 9,
   "id": "016256b0",
   "metadata": {},
   "outputs": [],
   "source": [
    "# Importing required libraries\n",
    "from sklearn.model_selection import train_test_split\n",
    "from sklearn.metrics import r2_score\n",
    "\n",
    "# Dividing data into X and y variables\n",
    "X = candidates.iloc[:, :7] # all rows of all columns with column 7 excluded\n",
    "y = candidates.iloc[:, 7] # all rows of column 7\n",
    "\n",
    "X_train, X_test, y_train, y_test = train_test_split(X, y, test_size = 0.2, random_state = 1)"
   ]
  },
  {
   "cell_type": "markdown",
   "id": "1f08ff9d-576d-499e-a5f1-ae51523d9c80",
   "metadata": {},
   "source": [
    "## 5. Model Building using Linear Regression"
   ]
  },
  {
   "cell_type": "code",
   "execution_count": 10,
   "id": "192d28ba",
   "metadata": {},
   "outputs": [
    {
     "name": "stdout",
     "output_type": "stream",
     "text": [
      "Accuracy =  0.820874170310373\n"
     ]
    }
   ],
   "source": [
    "from sklearn import linear_model\n",
    "\n",
    "reg = linear_model.LinearRegression().fit(X_train, y_train)\n",
    "y_pred_reg = reg.predict(X_test)\n",
    "print(\"Accuracy = \" ,r2_score(y_test, y_pred_reg))"
   ]
  },
  {
   "cell_type": "markdown",
   "id": "4c235910-6ae4-46eb-8f2a-7dfb7dece702",
   "metadata": {},
   "source": [
    "## 6. Model Building using NN Algorithm (Multi-layer Perceptron Regressor)"
   ]
  },
  {
   "cell_type": "code",
   "execution_count": 11,
   "id": "cde13bb9",
   "metadata": {},
   "outputs": [
    {
     "name": "stdout",
     "output_type": "stream",
     "text": [
      "Accuracy =  0.718375020083617\n"
     ]
    }
   ],
   "source": [
    "from sklearn.neural_network import MLPRegressor\n",
    "\n",
    "regr = MLPRegressor(\n",
    "    hidden_layer_sizes=(100, 100, 20,),\n",
    "    alpha=0.03,    \n",
    "    n_iter_no_change=100,\n",
    "    max_iter=400,\n",
    "    random_state = 1,\n",
    "    verbose=False,\n",
    "    ).fit(X_train, y_train)  \n",
    "regr.predict(X_test)\n",
    "print(\"Accuracy = \", regr.score(X_test, y_test))  "
   ]
  },
  {
   "cell_type": "markdown",
   "id": "3527d7e7-3bbe-446d-a53e-5724950ecced",
   "metadata": {},
   "source": [
    "## 7. Comparing Results\n",
    "### Linear Regression\n",
    "- I achieved a *Linear Regression* accuracy of 82% which is considered good without the need of changing any of the hyperparameters due to the fact that the data is not noisy (we don't have a lot of outliers).\n",
    "- The accuracy can be improved by doing some data science tasks (scaling the data, doing some specific feature analysis to see what features contributed more to the output and work from there).\n",
    "\n",
    "### Multi-layer Perceptron Regressor\n",
    "- I achieved an accuracy of 71% for the *Multi-layer Perceptron Regressor*. \n",
    "- MLP Regressor is very powerful, yet using it and tuning the right hyperparameters can be challenging and more advanced. \n",
    "- I tried to apply the techniques that we acquired from the lab (increasing ```max_iter```, ```n_iter_no_change```, both were manipulated by observing the loss value in each iteration using ```verbose=True```) and also from the internet (the learning rate ```alpha``` with the best convergence being spotted at ```alpha=0.03```).\n",
    "- The results are the best I got so far, yet I'm pretty confident that a better accuracy can be achieved for this model. \n",
    "\n",
    "### Conclusion\n",
    "- after all, one can savely conclude that following a classical *Machine Learning Algorithm* is **the best way to perfom such tasks due to the fact to being less computational heavy, simpler, and mostly very specific to the needed task.**"
   ]
  }
 ],
 "metadata": {
  "kernelspec": {
   "display_name": "Python 3 (ipykernel)",
   "language": "python",
   "name": "python3"
  },
  "language_info": {
   "codemirror_mode": {
    "name": "ipython",
    "version": 3
   },
   "file_extension": ".py",
   "mimetype": "text/x-python",
   "name": "python",
   "nbconvert_exporter": "python",
   "pygments_lexer": "ipython3",
   "version": "3.9.7"
  }
 },
 "nbformat": 4,
 "nbformat_minor": 5
}
